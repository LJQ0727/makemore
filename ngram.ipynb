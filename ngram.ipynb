{
 "cells": [
  {
   "cell_type": "code",
   "execution_count": 130,
   "metadata": {},
   "outputs": [
    {
     "name": "stdout",
     "output_type": "stream",
     "text": [
      "['<S>', 'hi', ',', 'how', 'are', 'you', 'doing', '?', 'i', \"'m\", 'fine', '.', 'how', 'about', 'yourself', '?', '<E>']\n"
     ]
    },
    {
     "data": {
      "text/plain": [
       "2512"
      ]
     },
     "execution_count": 130,
     "metadata": {},
     "output_type": "execute_result"
    }
   ],
   "source": [
    "import torch\n",
    "import pandas as pd\n",
    "\n",
    "import nltk\n",
    "from nltk.tokenize import word_tokenize\n",
    "\n",
    "n_grams = 2\n",
    "\n",
    "with open('chatbot.txt') as f:\n",
    "    sents = f.readlines()\n",
    "    sent_words = [word_tokenize(words) for words in sents]\n",
    "    for i, words in enumerate(sent_words):\n",
    "        # words = [word for word in words if word.isalpha()]\n",
    "        words = [word.lower() for word in words]\n",
    "        words.insert(0, '<S>')\n",
    "        words.append('<E>')\n",
    "        sent_words[i] = words\n",
    "\n",
    "\n",
    "print(sent_words[0])\n",
    "\n",
    "\n",
    "word_set = set()\n",
    "for sent in sent_words:\n",
    "    for word in sent:\n",
    "        word_set.add(word)\n",
    "\n",
    "word_cnt = len(word_set)\n",
    "\n",
    "word_cnt"
   ]
  },
  {
   "cell_type": "code",
   "execution_count": 131,
   "metadata": {},
   "outputs": [],
   "source": [
    "# tensorize\n",
    "\n",
    "word_to_idx = {word:i for i,word in enumerate(word_set)}\n",
    "idx_to_word = {i:word for i,word in enumerate(word_set)}\n",
    "\n",
    "# building bigram\n",
    "bigram = torch.zeros((word_cnt, word_cnt), dtype=torch.float64)\n",
    "\n",
    "for sent in sent_words:\n",
    "    for i in range(len(sent)-1):\n",
    "        first_idx = word_to_idx[sent[i]]\n",
    "        second_idx = word_to_idx[sent[i+1]]\n",
    "        bigram[first_idx, second_idx] += 1\n",
    "\n",
    "# torch.sum(bigram, dim=1)\n",
    "# normalize the bigram\n",
    "bigram += 1\n",
    "# bigram = bigram / torch.sum(bigram, dim=1)\n",
    "\n",
    "# APPLY SOFTMAX\n",
    "bigram = torch.softmax(bigram, dim=1)\n",
    "\n",
    "# bigram[422]\n",
    "\n",
    "# bigram[422] /= torch.sum(bigram[422])\n",
    "# torch.sum(bigram[422])\n"
   ]
  },
  {
   "cell_type": "code",
   "execution_count": 132,
   "metadata": {},
   "outputs": [
    {
     "data": {
      "text/plain": [
       "tensor(1.0000, dtype=torch.float64)"
      ]
     },
     "execution_count": 132,
     "metadata": {},
     "output_type": "execute_result"
    }
   ],
   "source": [
    "curr_word = '<S>'\n",
    "word_to_idx[curr_word]\n",
    "torch.sum(bigram[422])"
   ]
  },
  {
   "cell_type": "code",
   "execution_count": 173,
   "metadata": {},
   "outputs": [
    {
     "name": "stdout",
     "output_type": "stream",
     "text": [
      "n't\n",
      "know\n",
      ".\n",
      "<E>\n"
     ]
    }
   ],
   "source": [
    "# random sample and generate sent\n",
    "curr_word = 'does'\n",
    "curr_idx = word_to_idx[curr_word]\n",
    "\n",
    "while True:\n",
    "    curr_row = bigram[curr_idx]\n",
    "    # print(curr_row.sum())\n",
    "    selected = torch.multinomial(curr_row, num_samples=1).item()\n",
    "    # selected = torch.argmax(curr_row).item()\n",
    "    print(idx_to_word[selected])\n",
    "    if idx_to_word[selected] == '<E>':\n",
    "        break\n",
    "    else:\n",
    "        curr_idx = selected"
   ]
  },
  {
   "cell_type": "code",
   "execution_count": null,
   "metadata": {},
   "outputs": [],
   "source": []
  },
  {
   "cell_type": "code",
   "execution_count": 134,
   "metadata": {},
   "outputs": [],
   "source": [
    "%matplotlib inline\n",
    "import matplotlib.pyplot as plt\n",
    "\n"
   ]
  }
 ],
 "metadata": {
  "kernelspec": {
   "display_name": "base",
   "language": "python",
   "name": "python3"
  },
  "language_info": {
   "codemirror_mode": {
    "name": "ipython",
    "version": 3
   },
   "file_extension": ".py",
   "mimetype": "text/x-python",
   "name": "python",
   "nbconvert_exporter": "python",
   "pygments_lexer": "ipython3",
   "version": "3.8.8"
  },
  "orig_nbformat": 4,
  "vscode": {
   "interpreter": {
    "hash": "1253ed567b0ae1ea4d701ec237c6bbcbcaa1d71f1734265b697d2876df359bdf"
   }
  }
 },
 "nbformat": 4,
 "nbformat_minor": 2
}
